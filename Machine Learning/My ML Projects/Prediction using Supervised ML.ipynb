{
 "cells": [
  {
   "cell_type": "code",
   "execution_count": 1,
   "id": "a573956c",
   "metadata": {},
   "outputs": [],
   "source": [
    "# Importing Needed packages\n",
    "\n",
    "import matplotlib.pyplot as plt\n",
    "import numpy as np\n",
    "import pandas as pd\n",
    "import pylab as pl\n",
    "import os\n",
    "%matplotlib inline"
   ]
  },
  {
   "cell_type": "code",
   "execution_count": 2,
   "id": "3469d204",
   "metadata": {},
   "outputs": [
    {
     "data": {
      "text/html": [
       "<div>\n",
       "<style scoped>\n",
       "    .dataframe tbody tr th:only-of-type {\n",
       "        vertical-align: middle;\n",
       "    }\n",
       "\n",
       "    .dataframe tbody tr th {\n",
       "        vertical-align: top;\n",
       "    }\n",
       "\n",
       "    .dataframe thead th {\n",
       "        text-align: right;\n",
       "    }\n",
       "</style>\n",
       "<table border=\"1\" class=\"dataframe\">\n",
       "  <thead>\n",
       "    <tr style=\"text-align: right;\">\n",
       "      <th></th>\n",
       "      <th>Hours</th>\n",
       "      <th>Scores</th>\n",
       "    </tr>\n",
       "  </thead>\n",
       "  <tbody>\n",
       "    <tr>\n",
       "      <th>0</th>\n",
       "      <td>2.5</td>\n",
       "      <td>21</td>\n",
       "    </tr>\n",
       "    <tr>\n",
       "      <th>1</th>\n",
       "      <td>5.1</td>\n",
       "      <td>47</td>\n",
       "    </tr>\n",
       "    <tr>\n",
       "      <th>2</th>\n",
       "      <td>3.2</td>\n",
       "      <td>27</td>\n",
       "    </tr>\n",
       "    <tr>\n",
       "      <th>3</th>\n",
       "      <td>8.5</td>\n",
       "      <td>75</td>\n",
       "    </tr>\n",
       "    <tr>\n",
       "      <th>4</th>\n",
       "      <td>3.5</td>\n",
       "      <td>30</td>\n",
       "    </tr>\n",
       "  </tbody>\n",
       "</table>\n",
       "</div>"
      ],
      "text/plain": [
       "   Hours  Scores\n",
       "0    2.5      21\n",
       "1    5.1      47\n",
       "2    3.2      27\n",
       "3    8.5      75\n",
       "4    3.5      30"
      ]
     },
     "execution_count": 2,
     "metadata": {},
     "output_type": "execute_result"
    }
   ],
   "source": [
    "# Reading the data\n",
    "os.chdir(r'C:\\Users\\apega\\My py notes\\Python for Data Science\\other saved files')\n",
    "\n",
    "df = pd.read_csv('student_scores.csv')\n",
    "\n",
    "df.head()"
   ]
  },
  {
   "cell_type": "markdown",
   "id": "62887af9",
   "metadata": {},
   "source": [
    "# Data Exploration"
   ]
  },
  {
   "cell_type": "code",
   "execution_count": 3,
   "id": "c5234ba8",
   "metadata": {
    "scrolled": true
   },
   "outputs": [
    {
     "data": {
      "text/html": [
       "<div>\n",
       "<style scoped>\n",
       "    .dataframe tbody tr th:only-of-type {\n",
       "        vertical-align: middle;\n",
       "    }\n",
       "\n",
       "    .dataframe tbody tr th {\n",
       "        vertical-align: top;\n",
       "    }\n",
       "\n",
       "    .dataframe thead th {\n",
       "        text-align: right;\n",
       "    }\n",
       "</style>\n",
       "<table border=\"1\" class=\"dataframe\">\n",
       "  <thead>\n",
       "    <tr style=\"text-align: right;\">\n",
       "      <th></th>\n",
       "      <th>Hours</th>\n",
       "      <th>Scores</th>\n",
       "    </tr>\n",
       "  </thead>\n",
       "  <tbody>\n",
       "    <tr>\n",
       "      <th>count</th>\n",
       "      <td>25.000000</td>\n",
       "      <td>25.000000</td>\n",
       "    </tr>\n",
       "    <tr>\n",
       "      <th>mean</th>\n",
       "      <td>5.012000</td>\n",
       "      <td>51.480000</td>\n",
       "    </tr>\n",
       "    <tr>\n",
       "      <th>std</th>\n",
       "      <td>2.525094</td>\n",
       "      <td>25.286887</td>\n",
       "    </tr>\n",
       "    <tr>\n",
       "      <th>min</th>\n",
       "      <td>1.100000</td>\n",
       "      <td>17.000000</td>\n",
       "    </tr>\n",
       "    <tr>\n",
       "      <th>25%</th>\n",
       "      <td>2.700000</td>\n",
       "      <td>30.000000</td>\n",
       "    </tr>\n",
       "    <tr>\n",
       "      <th>50%</th>\n",
       "      <td>4.800000</td>\n",
       "      <td>47.000000</td>\n",
       "    </tr>\n",
       "    <tr>\n",
       "      <th>75%</th>\n",
       "      <td>7.400000</td>\n",
       "      <td>75.000000</td>\n",
       "    </tr>\n",
       "    <tr>\n",
       "      <th>max</th>\n",
       "      <td>9.200000</td>\n",
       "      <td>95.000000</td>\n",
       "    </tr>\n",
       "  </tbody>\n",
       "</table>\n",
       "</div>"
      ],
      "text/plain": [
       "           Hours     Scores\n",
       "count  25.000000  25.000000\n",
       "mean    5.012000  51.480000\n",
       "std     2.525094  25.286887\n",
       "min     1.100000  17.000000\n",
       "25%     2.700000  30.000000\n",
       "50%     4.800000  47.000000\n",
       "75%     7.400000  75.000000\n",
       "max     9.200000  95.000000"
      ]
     },
     "execution_count": 3,
     "metadata": {},
     "output_type": "execute_result"
    }
   ],
   "source": [
    "# summarize the data\n",
    "\n",
    "df.describe()"
   ]
  },
  {
   "cell_type": "code",
   "execution_count": 4,
   "id": "08a109b1",
   "metadata": {},
   "outputs": [],
   "source": [
    "# Now, lets plot Hours vs Scores, to see how linear is their relation:"
   ]
  },
  {
   "cell_type": "code",
   "execution_count": 5,
   "id": "cd438487",
   "metadata": {},
   "outputs": [
    {
     "data": {
      "image/png": "[encoded data removed]",
      "text/plain": [
       "<Figure size 432x288 with 1 Axes>"
      ]
     },
     "metadata": {
      "needs_background": "light"
     },
     "output_type": "display_data"
    }
   ],
   "source": [
    "plt.scatter(df.Hours, df.Scores, color = 'r', marker = '+')\n",
    "\n",
    "plt.xlabel(\"Hours studied\")\n",
    "plt.ylabel(\"Scored marks\")\n",
    "plt.title('Hours vs Scores')\n",
    "plt.show()"
   ]
  },
  {
   "cell_type": "code",
   "execution_count": 6,
   "id": "2705071d",
   "metadata": {},
   "outputs": [
    {
     "data": {
      "text/plain": [
       "(array([[2.5],\n",
       "        [5.1],\n",
       "        [3.2],\n",
       "        [8.5],\n",
       "        [3.5]]),\n",
       " array([21, 47, 27, 75, 30], dtype=int64))"
      ]
     },
     "execution_count": 6,
     "metadata": {},
     "output_type": "execute_result"
    }
   ],
   "source": [
    "X = df.iloc[:, :-1].values\n",
    "y = df.iloc[:, 1].values  \n",
    "X[:5], y[:5]"
   ]
  },
  {
   "cell_type": "markdown",
   "id": "72bac5ab",
   "metadata": {},
   "source": [
    "# Spliting data into train and test sets\n"
   ]
  },
  {
   "cell_type": "code",
   "execution_count": 7,
   "id": "b7796d37",
   "metadata": {},
   "outputs": [],
   "source": [
    "from sklearn.model_selection import train_test_split  \n",
    "X_train, X_test, y_train, y_test = train_test_split(X, y, test_size=0.1, random_state=0) "
   ]
  },
  {
   "cell_type": "markdown",
   "id": "e8dc21af",
   "metadata": {},
   "source": [
    "# flashML"
   ]
  },
  {
   "cell_type": "code",
   "execution_count": 8,
   "id": "820d2bb8",
   "metadata": {
    "scrolled": true
   },
   "outputs": [
    {
     "name": "stdout",
     "output_type": "stream",
     "text": [
      "Requirement already satisfied: flashML==0.1.3 in d:\\anaconda\\lib\\site-packages (0.1.3)\n",
      "Requirement already satisfied: NumPy>=1.16.2 in d:\\anaconda\\lib\\site-packages (from flashML==0.1.3) (1.20.3)\n",
      "Requirement already satisfied: optuna in d:\\anaconda\\lib\\site-packages (from flashML==0.1.3) (2.10.0)\n",
      "Requirement already satisfied: pandas>=1.1.4 in d:\\anaconda\\lib\\site-packages (from flashML==0.1.3) (1.3.4)\n",
      "Requirement already satisfied: catboost>=0.26 in d:\\anaconda\\lib\\site-packages (from flashML==0.1.3) (1.0.3)\n",
      "Requirement already satisfied: lightgbm>=2.3.1 in d:\\anaconda\\lib\\site-packages (from flashML==0.1.3) (3.3.1)\n",
      "Requirement already satisfied: scikit-learn>=0.24 in d:\\anaconda\\lib\\site-packages (from flashML==0.1.3) (0.24.2)\n",
      "Requirement already satisfied: scipy>=1.4.1 in d:\\anaconda\\lib\\site-packages (from flashML==0.1.3) (1.7.1)\n",
      "Requirement already satisfied: matplotlib in d:\\anaconda\\lib\\site-packages (from catboost>=0.26->flashML==0.1.3) (3.4.3)\n",
      "Requirement already satisfied: plotly in d:\\anaconda\\lib\\site-packages (from catboost>=0.26->flashML==0.1.3) (5.4.0)\n",
      "Requirement already satisfied: six in d:\\anaconda\\lib\\site-packages (from catboost>=0.26->flashML==0.1.3) (1.16.0)\n",
      "Requirement already satisfied: graphviz in d:\\anaconda\\lib\\site-packages (from catboost>=0.26->flashML==0.1.3) (0.19)\n",
      "Requirement already satisfied: wheel in d:\\anaconda\\lib\\site-packages (from lightgbm>=2.3.1->flashML==0.1.3) (0.37.0)\n",
      "Requirement already satisfied: python-dateutil>=2.7.3 in d:\\anaconda\\lib\\site-packages (from pandas>=1.1.4->flashML==0.1.3) (2.8.2)\n",
      "Requirement already satisfied: pytz>=2017.3 in d:\\anaconda\\lib\\site-packages (from pandas>=1.1.4->flashML==0.1.3) (2021.3)\n",
      "Requirement already satisfied: threadpoolctl>=2.0.0 in d:\\anaconda\\lib\\site-packages (from scikit-learn>=0.24->flashML==0.1.3) (2.2.0)\n",
      "Requirement already satisfied: joblib>=0.11 in d:\\anaconda\\lib\\site-packages (from scikit-learn>=0.24->flashML==0.1.3) (1.1.0)\n",
      "Requirement already satisfied: pillow>=6.2.0 in d:\\anaconda\\lib\\site-packages (from matplotlib->catboost>=0.26->flashML==0.1.3) (8.4.0)\n",
      "Requirement already satisfied: pyparsing>=2.2.1 in d:\\anaconda\\lib\\site-packages (from matplotlib->catboost>=0.26->flashML==0.1.3) (3.0.4)\n",
      "Requirement already satisfied: cycler>=0.10 in d:\\anaconda\\lib\\site-packages (from matplotlib->catboost>=0.26->flashML==0.1.3) (0.10.0)\n",
      "Requirement already satisfied: kiwisolver>=1.0.1 in d:\\anaconda\\lib\\site-packages (from matplotlib->catboost>=0.26->flashML==0.1.3) (1.3.1)\n",
      "Requirement already satisfied: cmaes>=0.8.2 in d:\\anaconda\\lib\\site-packages (from optuna->flashML==0.1.3) (0.8.2)\n",
      "Requirement already satisfied: PyYAML in d:\\anaconda\\lib\\site-packages (from optuna->flashML==0.1.3) (6.0)\n",
      "Requirement already satisfied: tqdm in d:\\anaconda\\lib\\site-packages (from optuna->flashML==0.1.3) (4.62.3)\n",
      "Requirement already satisfied: cliff in d:\\anaconda\\lib\\site-packages (from optuna->flashML==0.1.3) (3.10.0)\n",
      "Requirement already satisfied: packaging>=20.0 in d:\\anaconda\\lib\\site-packages (from optuna->flashML==0.1.3) (21.0)\n",
      "Requirement already satisfied: sqlalchemy>=1.1.0 in d:\\anaconda\\lib\\site-packages (from optuna->flashML==0.1.3) (1.4.22)\n",
      "Requirement already satisfied: alembic in d:\\anaconda\\lib\\site-packages (from optuna->flashML==0.1.3) (1.7.5)\n",
      "Requirement already satisfied: colorlog in d:\\anaconda\\lib\\site-packages (from optuna->flashML==0.1.3) (6.6.0)\n",
      "Requirement already satisfied: greenlet!=0.4.17 in d:\\anaconda\\lib\\site-packages (from sqlalchemy>=1.1.0->optuna->flashML==0.1.3) (1.1.1)\n",
      "Requirement already satisfied: Mako in d:\\anaconda\\lib\\site-packages (from alembic->optuna->flashML==0.1.3) (1.1.6)\n",
      "Requirement already satisfied: stevedore>=2.0.1 in d:\\anaconda\\lib\\site-packages (from cliff->optuna->flashML==0.1.3) (3.5.0)\n",
      "Requirement already satisfied: autopage>=0.4.0 in d:\\anaconda\\lib\\site-packages (from cliff->optuna->flashML==0.1.3) (0.4.0)\n",
      "Requirement already satisfied: PrettyTable>=0.7.2 in d:\\anaconda\\lib\\site-packages (from cliff->optuna->flashML==0.1.3) (2.4.0)\n",
      "Requirement already satisfied: cmd2>=1.0.0 in d:\\anaconda\\lib\\site-packages (from cliff->optuna->flashML==0.1.3) (2.3.3)\n",
      "Requirement already satisfied: pbr!=2.1.0,>=2.0.0 in d:\\anaconda\\lib\\site-packages (from cliff->optuna->flashML==0.1.3) (5.8.0)\n",
      "Requirement already satisfied: wcwidth>=0.1.7 in d:\\anaconda\\lib\\site-packages (from cmd2>=1.0.0->cliff->optuna->flashML==0.1.3) (0.2.5)\n",
      "Requirement already satisfied: pyreadline3 in d:\\anaconda\\lib\\site-packages (from cmd2>=1.0.0->cliff->optuna->flashML==0.1.3) (3.3)\n",
      "Requirement already satisfied: pyperclip>=1.6 in d:\\anaconda\\lib\\site-packages (from cmd2>=1.0.0->cliff->optuna->flashML==0.1.3) (1.8.2)\n",
      "Requirement already satisfied: attrs>=16.3.0 in d:\\anaconda\\lib\\site-packages (from cmd2>=1.0.0->cliff->optuna->flashML==0.1.3) (21.2.0)\n",
      "Requirement already satisfied: colorama in d:\\anaconda\\lib\\site-packages (from colorlog->optuna->flashML==0.1.3) (0.4.4)\n",
      "Requirement already satisfied: MarkupSafe>=0.9.2 in d:\\anaconda\\lib\\site-packages (from Mako->alembic->optuna->flashML==0.1.3) (1.1.1)\n",
      "Requirement already satisfied: tenacity>=6.2.0 in d:\\anaconda\\lib\\site-packages (from plotly->catboost>=0.26->flashML==0.1.3) (8.0.1)\n"
     ]
    }
   ],
   "source": [
    "!pip install flashML==0.1.3"
   ]
  },
  {
   "cell_type": "code",
   "execution_count": 9,
   "id": "df731cf3",
   "metadata": {
    "scrolled": true
   },
   "outputs": [
    {
     "name": "stdout",
     "output_type": "stream",
     "text": [
      "model name:  RandomForestRegressor  Best params:  {'n_estimators': 57, 'max_depth': 3}  Score:  0.8547138850955884\n",
      "model name:  ExtraTreesRegressor  Best params:  {'n_estimators': 34, 'max_depth': 2}  Score:  0.9078019205204959\n",
      "model name:  LinearRegression  Best params:  {}  Score:  0.9298077534821834\n",
      "model name:  CatBoostRegressor  Best params:  {'learning_rate': 0.06999999999999999, 'depth': 2, 'n_estimators': 92}  Score:  0.9096048523195301\n",
      "model name:  LGBMRegressor  Best params:  {'learning_rate': 0.09, 'n_estimators': 10}  Score:  -0.45280048402216955\n"
     ]
    },
    {
     "name": "stderr",
     "output_type": "stream",
     "text": [
      "D:\\Anaconda\\lib\\site-packages\\lightgbm\\sklearn.py:598: UserWarning: 'silent' argument is deprecated and will be removed in a future release of LightGBM. Pass 'verbose' parameter via keyword arguments instead.\n",
      "  _log_warning(\"'silent' argument is deprecated and will be removed in a future release of LightGBM. \"\n",
      "D:\\Anaconda\\lib\\site-packages\\lightgbm\\sklearn.py:598: UserWarning: 'silent' argument is deprecated and will be removed in a future release of LightGBM. Pass 'verbose' parameter via keyword arguments instead.\n",
      "  _log_warning(\"'silent' argument is deprecated and will be removed in a future release of LightGBM. \"\n",
      "D:\\Anaconda\\lib\\site-packages\\lightgbm\\sklearn.py:598: UserWarning: 'silent' argument is deprecated and will be removed in a future release of LightGBM. Pass 'verbose' parameter via keyword arguments instead.\n",
      "  _log_warning(\"'silent' argument is deprecated and will be removed in a future release of LightGBM. \"\n",
      "D:\\Anaconda\\lib\\site-packages\\lightgbm\\sklearn.py:598: UserWarning: 'silent' argument is deprecated and will be removed in a future release of LightGBM. Pass 'verbose' parameter via keyword arguments instead.\n",
      "  _log_warning(\"'silent' argument is deprecated and will be removed in a future release of LightGBM. \"\n",
      "D:\\Anaconda\\lib\\site-packages\\lightgbm\\sklearn.py:598: UserWarning: 'silent' argument is deprecated and will be removed in a future release of LightGBM. Pass 'verbose' parameter via keyword arguments instead.\n",
      "  _log_warning(\"'silent' argument is deprecated and will be removed in a future release of LightGBM. \"\n",
      "D:\\Anaconda\\lib\\site-packages\\lightgbm\\sklearn.py:598: UserWarning: 'silent' argument is deprecated and will be removed in a future release of LightGBM. Pass 'verbose' parameter via keyword arguments instead.\n",
      "  _log_warning(\"'silent' argument is deprecated and will be removed in a future release of LightGBM. \"\n",
      "D:\\Anaconda\\lib\\site-packages\\lightgbm\\sklearn.py:598: UserWarning: 'silent' argument is deprecated and will be removed in a future release of LightGBM. Pass 'verbose' parameter via keyword arguments instead.\n",
      "  _log_warning(\"'silent' argument is deprecated and will be removed in a future release of LightGBM. \"\n",
      "D:\\Anaconda\\lib\\site-packages\\lightgbm\\sklearn.py:598: UserWarning: 'silent' argument is deprecated and will be removed in a future release of LightGBM. Pass 'verbose' parameter via keyword arguments instead.\n",
      "  _log_warning(\"'silent' argument is deprecated and will be removed in a future release of LightGBM. \"\n",
      "D:\\Anaconda\\lib\\site-packages\\lightgbm\\sklearn.py:598: UserWarning: 'silent' argument is deprecated and will be removed in a future release of LightGBM. Pass 'verbose' parameter via keyword arguments instead.\n",
      "  _log_warning(\"'silent' argument is deprecated and will be removed in a future release of LightGBM. \"\n",
      "D:\\Anaconda\\lib\\site-packages\\lightgbm\\sklearn.py:598: UserWarning: 'silent' argument is deprecated and will be removed in a future release of LightGBM. Pass 'verbose' parameter via keyword arguments instead.\n",
      "  _log_warning(\"'silent' argument is deprecated and will be removed in a future release of LightGBM. \"\n"
     ]
    }
   ],
   "source": [
    "from flashML import autoML\n",
    "\n",
    "aml = autoML()\n",
    "aml.fit(X_train, X_test, y_train, y_test, \"regression\", \"r2_score\")"
   ]
  },
  {
   "cell_type": "code",
   "execution_count": 10,
   "id": "2bc68f73",
   "metadata": {},
   "outputs": [
    {
     "data": {
      "text/plain": [
       "'LinearRegression'"
      ]
     },
     "execution_count": 10,
     "metadata": {},
     "output_type": "execute_result"
    }
   ],
   "source": [
    "aml.get_best_model()"
   ]
  },
  {
   "cell_type": "code",
   "execution_count": 11,
   "id": "e5ae362d",
   "metadata": {},
   "outputs": [
    {
     "data": {
      "text/plain": [
       "array([20.675     , 37.72916667, 83.59375   ])"
      ]
     },
     "execution_count": 11,
     "metadata": {},
     "output_type": "execute_result"
    }
   ],
   "source": [
    "aml.predict(X_test)[:8]"
   ]
  },
  {
   "cell_type": "code",
   "execution_count": null,
   "id": "68ceff35",
   "metadata": {},
   "outputs": [],
   "source": []
  },
  {
   "cell_type": "markdown",
   "id": "1469f8d4",
   "metadata": {},
   "source": [
    "# Modeling: "
   ]
  },
  {
   "cell_type": "code",
   "execution_count": 12,
   "id": "d9f48332",
   "metadata": {},
   "outputs": [
    {
     "name": "stdout",
     "output_type": "stream",
     "text": [
      "Coefficients:  [9.85475541]\n",
      "Intercept:  2.52007670686622\n"
     ]
    }
   ],
   "source": [
    "from sklearn import linear_model\n",
    "\n",
    "regr = linear_model.LinearRegression()\n",
    "regr.fit (X_train, y_train)\n",
    "\n",
    "# The coefficients\n",
    "\n",
    "print ('Coefficients: ', regr.coef_)\n",
    "print ('Intercept: ',regr.intercept_)"
   ]
  },
  {
   "cell_type": "code",
   "execution_count": 13,
   "id": "4deb6345",
   "metadata": {},
   "outputs": [],
   "source": [
    "# We can plot the fit line over the data:"
   ]
  },
  {
   "cell_type": "code",
   "execution_count": 14,
   "id": "e6030440",
   "metadata": {},
   "outputs": [
    {
     "data": {
      "image/png": "[encoded data removed]",
      "text/plain": [
       "<Figure size 432x288 with 1 Axes>"
      ]
     },
     "metadata": {
      "needs_background": "light"
     },
     "output_type": "display_data"
    }
   ],
   "source": [
    "plt.scatter(X, y)\n",
    "plt.plot(X ,regr.coef_*X+regr.intercept_ );\n",
    "plt.show()"
   ]
  },
  {
   "cell_type": "markdown",
   "id": "df477e08",
   "metadata": {},
   "source": [
    "# Predictions"
   ]
  },
  {
   "cell_type": "code",
   "execution_count": 15,
   "id": "edca98d2",
   "metadata": {},
   "outputs": [],
   "source": [
    "yhat = regr.predict(X_test) "
   ]
  },
  {
   "cell_type": "code",
   "execution_count": 16,
   "id": "b4427164",
   "metadata": {},
   "outputs": [
    {
     "data": {
      "text/html": [
       "<div>\n",
       "<style scoped>\n",
       "    .dataframe tbody tr th:only-of-type {\n",
       "        vertical-align: middle;\n",
       "    }\n",
       "\n",
       "    .dataframe tbody tr th {\n",
       "        vertical-align: top;\n",
       "    }\n",
       "\n",
       "    .dataframe thead th {\n",
       "        text-align: right;\n",
       "    }\n",
       "</style>\n",
       "<table border=\"1\" class=\"dataframe\">\n",
       "  <thead>\n",
       "    <tr style=\"text-align: right;\">\n",
       "      <th></th>\n",
       "      <th>Actual</th>\n",
       "      <th>Predicted</th>\n",
       "    </tr>\n",
       "  </thead>\n",
       "  <tbody>\n",
       "    <tr>\n",
       "      <th>0</th>\n",
       "      <td>20</td>\n",
       "      <td>17.302210</td>\n",
       "    </tr>\n",
       "    <tr>\n",
       "      <th>1</th>\n",
       "      <td>27</td>\n",
       "      <td>34.055294</td>\n",
       "    </tr>\n",
       "    <tr>\n",
       "      <th>2</th>\n",
       "      <td>69</td>\n",
       "      <td>75.445267</td>\n",
       "    </tr>\n",
       "  </tbody>\n",
       "</table>\n",
       "</div>"
      ],
      "text/plain": [
       "   Actual  Predicted\n",
       "0      20  17.302210\n",
       "1      27  34.055294\n",
       "2      69  75.445267"
      ]
     },
     "execution_count": 16,
     "metadata": {},
     "output_type": "execute_result"
    }
   ],
   "source": [
    "# Comparing Actual vs Predicted \n",
    "df = pd.DataFrame({'Actual': y_test, 'Predicted': yhat})  \n",
    "df "
   ]
  },
  {
   "cell_type": "markdown",
   "id": "b448de90",
   "metadata": {},
   "source": [
    "# Evaluating"
   ]
  },
  {
   "cell_type": "code",
   "execution_count": 17,
   "id": "34fdac47",
   "metadata": {},
   "outputs": [
    {
     "name": "stdout",
     "output_type": "stream",
     "text": [
      "Mean Absolute Error: 5.399450313612012\n",
      "r2_score:  0.9298077534821834\n"
     ]
    }
   ],
   "source": [
    "from sklearn import metrics  \n",
    "print('Mean Absolute Error:', metrics.mean_absolute_error(y_test, yhat)) \n",
    "print(\"r2_score: \", metrics.r2_score(y_test, yhat))"
   ]
  },
  {
   "cell_type": "code",
   "execution_count": 18,
   "id": "ad720c66",
   "metadata": {},
   "outputs": [
    {
     "name": "stdout",
     "output_type": "stream",
     "text": [
      "No of Hours = 9\n",
      "Predicted Score = 91.2128753998034\n"
     ]
    }
   ],
   "source": [
    "# predicting score of a student who studied for 9.25 hrs/ day:\n",
    "own_pred = regr.predict(np.array([9]).reshape(1, 1))\n",
    "print(\"No of Hours = {}\".format(9))\n",
    "print(\"Predicted Score = {}\".format(own_pred[0]))"
   ]
  },
  {
   "cell_type": "code",
   "execution_count": null,
   "id": "98dd0246",
   "metadata": {},
   "outputs": [],
   "source": []
  },
  {
   "cell_type": "markdown",
   "id": "fe5398bc",
   "metadata": {},
   "source": [
    "# Save the model"
   ]
  },
  {
   "cell_type": "code",
   "execution_count": 19,
   "id": "9d6aaaa5",
   "metadata": {},
   "outputs": [],
   "source": [
    "os.chdir(r'C:\\Users\\apega\\My py notes\\Machine Learning\\My ML Projects\\models')\n",
    "import pickle \n",
    "pickle.dump(regr,open(\"simple.pkl\",\"wb\"))"
   ]
  },
  {
   "cell_type": "code",
   "execution_count": null,
   "id": "676ef58a",
   "metadata": {},
   "outputs": [],
   "source": []
  },
  {
   "cell_type": "code",
   "execution_count": null,
   "id": "b3f7d901",
   "metadata": {},
   "outputs": [],
   "source": []
  },
  {
   "cell_type": "code",
   "execution_count": null,
   "id": "1aeefb1c",
   "metadata": {},
   "outputs": [],
   "source": []
  }
 ],
 "metadata": {
  "kernelspec": {
   "display_name": "Python 3 (ipykernel)",
   "language": "python",
   "name": "python3"
  },
  "language_info": {
   "codemirror_mode": {
    "name": "ipython",
    "version": 3
   },
   "file_extension": ".py",
   "mimetype": "text/x-python",
   "name": "python",
   "nbconvert_exporter": "python",
   "pygments_lexer": "ipython3",
   "version": "3.9.7"
  }
 },
 "nbformat": 4,
 "nbformat_minor": 5
}
