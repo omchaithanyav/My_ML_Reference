{
 "cells": [
  {
   "cell_type": "markdown",
   "id": "6d126d9e",
   "metadata": {},
   "source": [
    "StandardScaler follows Standard Normal Distribution (SND). Therefore, it makes mean = 0 and scales the data to unit variance. \n",
    "We use StandardScaler when the data is normally distributed and there are no outliers because outliers can influence while computing the mean and standard deviation. - {Standardization}\n",
    "\n",
    "\n",
    "MinMaxScaler scales all the data features in the range [0, 1] or else in the range [-1, 1] if there are negative values in the dataset. - {Normalization} \n",
    "\n",
    "\n",
    "By using RobustScaler, we can remove the outliers and then use either StandardScaler or MinMaxScaler for preprocessing the dataset. RobustScaler ignores outliers while computing mean and standard deviation. - {Robust Standardization}\n",
    "\n",
    "\n",
    "We can get these scalars from sklearn.preprocessing\n",
    "\n",
    "MinMax Scaler = \"(value-min)/(max-min)\"\n",
    "\n",
    "Standard Scalar = \"(Value-mean)/(standard_deviation)\"\n",
    "\n",
    "Robust Scalar = \"(value-median)/(P75-P25)\""
   ]
  },
  {
   "cell_type": "code",
   "execution_count": null,
   "id": "3b1d7bbe",
   "metadata": {},
   "outputs": [],
   "source": []
  }
 ],
 "metadata": {
  "kernelspec": {
   "display_name": "Python 3 (ipykernel)",
   "language": "python",
   "name": "python3"
  },
  "language_info": {
   "codemirror_mode": {
    "name": "ipython",
    "version": 3
   },
   "file_extension": ".py",
   "mimetype": "text/x-python",
   "name": "python",
   "nbconvert_exporter": "python",
   "pygments_lexer": "ipython3",
   "version": "3.8.11"
  }
 },
 "nbformat": 4,
 "nbformat_minor": 5
}
