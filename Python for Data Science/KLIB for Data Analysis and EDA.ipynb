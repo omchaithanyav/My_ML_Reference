{
 "cells": [
  {
   "cell_type": "markdown",
   "id": "e2a064ad",
   "metadata": {},
   "source": [
    "# klib"
   ]
  },
  {
   "cell_type": "markdown",
   "id": "b3399607",
   "metadata": {},
   "source": [
    "https://pypi.org/project/klib/"
   ]
  },
  {
   "cell_type": "raw",
   "id": "645e37c9",
   "metadata": {},
   "source": [
    "import klib\n",
    "import pandas as pd\n",
    "\n",
    "df = pd.DataFrame(data)\n",
    "\n",
    "# klib.describe functions for visualizing datasets\n",
    "- klib.cat_plot(df) # returns a visualization of the number and frequency of categorical features\n",
    "- klib.corr_mat(df) # returns a color-encoded correlation matrix\n",
    "- klib.corr_plot(df) # returns a color-encoded heatmap, ideal for correlations\n",
    "- klib.dist_plot(df) # returns a distribution plot for every numeric feature\n",
    "- klib.missingval_plot(df) # returns a figure containing information about missing values\n",
    "\n",
    "\n",
    "\n",
    "# klib.clean functions for cleaning datasets\n",
    "- klib.data_cleaning(df) # performs datacleaning (drop duplicates & empty rows/cols, adjust dtypes,...)\n",
    "- klib.clean_column_names(df) # cleans and standardizes column names, also called inside data_cleaning()\n",
    "- klib.convert_datatypes(df) # converts existing to more efficient dtypes, also called inside data_cleaning()\n",
    "- klib.drop_missing(df) # drops missing values, also called in data_cleaning()\n",
    "- klib.mv_col_handling(df) # drops features with high ratio of missing vals based on informational content\n",
    "- klib.pool_duplicate_subsets(df) # pools subset of cols based on duplicates with min. loss of information\n",
    "\n",
    "\n",
    "\n",
    "# klib.preprocess functions for data preprocessing (feature selection, scaling, ...)\n",
    "- klib.train_dev_test_split(df) # splits a dataset and a label into train, optionally dev and test sets\n",
    "- klib.feature_selection_pipe() # provides common operations for feature selection\n",
    "- klib.num_pipe() # provides common operations for preprocessing of numerical data\n",
    "- klib.cat_pipe() # provides common operations for preprocessing of categorical data\n",
    "- klib.preprocess.ColumnSelector() # selects num or cat columns, ideal for a Feature Union or Pipeline\n",
    "- klib.preprocess.PipeInfo() # prints out the shape of the data at the specified step of a Pipeline"
   ]
  }
 ],
 "metadata": {
  "kernelspec": {
   "display_name": "Python 3",
   "language": "python",
   "name": "python3"
  },
  "language_info": {
   "codemirror_mode": {
    "name": "ipython",
    "version": 3
   },
   "file_extension": ".py",
   "mimetype": "text/x-python",
   "name": "python",
   "nbconvert_exporter": "python",
   "pygments_lexer": "ipython3",
   "version": "3.8.5"
  }
 },
 "nbformat": 4,
 "nbformat_minor": 5
}
